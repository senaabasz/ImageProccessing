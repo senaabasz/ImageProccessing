{
 "cells": [
  {
   "cell_type": "markdown",
   "id": "c43cf377",
   "metadata": {
    "papermill": {
     "duration": 0.006172,
     "end_time": "2024-12-21T14:28:37.003357",
     "exception": false,
     "start_time": "2024-12-21T14:28:36.997185",
     "status": "completed"
    },
    "tags": []
   },
   "source": [
    "<div style=\"text-align: center;\">\n",
    "    <img src=\"https://miro.medium.com/v2/resize:fit:1400/1*fZsOOTFSFpBcc9DEApeLow.png\" width=\"800\" height =\"600\" />\n",
    "</div>\n"
   ]
  },
  {
   "cell_type": "markdown",
   "id": "5b64a5f7",
   "metadata": {
    "papermill": {
     "duration": 0.006195,
     "end_time": "2024-12-21T14:28:37.015118",
     "exception": false,
     "start_time": "2024-12-21T14:28:37.008923",
     "status": "completed"
    },
    "tags": []
   },
   "source": [
    "### Project Objective 🔭\n",
    "\n",
    "The objective of this project is to explore how image manipulation techniques, particularly brightness and contrast adjustments, impact the performance of a neural network model in image classification tasks. The project focuses on the following key goals:\n",
    "\n",
    "1. **Data Augmentation** 🌟: Implement and apply various image manipulation techniques, including brightness and contrast adjustments, to enhance the dataset. This helps simulate different lighting conditions that a model may encounter in real-world scenarios.\n",
    "\n",
    "2. **Model Training and Evaluation** 🧠: Train a convolutional neural network (CNN) on a dataset of images and evaluate its performance on both normal and manipulated test sets. The model will be trained on standard image data and then tested on images with altered lighting conditions to measure its robustness.\n",
    "\n",
    "3. **Comparison of Performance Across Test Sets** 📊: Assess and compare the model's accuracy across three distinct test sets:\n",
    "    - **Normal Test Set** 📸: The original unaltered images.\n",
    "    - **Manipulated Test Set** 🌅: Images with adjusted brightness and contrast to simulate real-world variability in lighting conditions.\n",
    "    - **White-Balanced Test Set** 🎨: Images that have undergone white-balancing adjustments to correct for lighting discrepancies.\n",
    "\n",
    "4. **Performance Analysis and Insights** 🔍: Analyze and interpret the results obtained from the different test sets. The goal is to understand how well the model generalizes to unseen lighting conditions and to identify areas for improvement, such as enhancing model robustness through further data augmentation or model optimization techniques.\n",
    "\n",
    "This project aims to provide insights into the effectiveness of image preprocessing and data augmentation in building more reliable and adaptable image classification models, especially for use cases involving varying real-world conditions.\n"
   ]
  },
  {
   "cell_type": "markdown",
   "id": "8be8b410",
   "metadata": {
    "papermill": {
     "duration": 0.005222,
     "end_time": "2024-12-21T14:28:37.025598",
     "exception": false,
     "start_time": "2024-12-21T14:28:37.020376",
     "status": "completed"
    },
    "tags": []
   },
   "source": [
    "# 1. Data Preparation: Handling Class Names from the Dataset 🗂️📸\n",
    "\n",
    "In this step, we prepare the class names from the dataset for further processing. Specifically, we focus on organizing the class names by converting them to a consistent format.\n",
    "\n",
    "1. **Selecting Specific Classes**:\n",
    "   - We begin by defining a list of selected animal classes that we will be working with. These classes include various animals like `collie`, `dolphin`, `elephant`, `giant panda`, and others.\n",
    "\n",
    "2. **Defining the Dataset Directory**:\n",
    "   - We specify the directory where the images for each class are stored. In our case, the dataset is located in the `JPEGImages` folder, which contains a directory for each animal class.\n",
    "\n",
    "3. **Listing All Class Names**:\n",
    "   - Using the `os.listdir()` function, we retrieve all the folder names from the dataset directory. Each folder name corresponds to a different animal class in the dataset.\n",
    "\n",
    "4. **Cleaning and Standardizing Class Names**:\n",
    "   - We then process the class names to ensure consistency:\n",
    "     - All class names are converted to lowercase to maintain uniformity (e.g., \"Elephant\" becomes \"elephant\").\n",
    "     - Additionally, any `+` characters in the class names are replaced with a space, which ensures proper formatting (e.g., \"giant+panda\" becomes \"giant panda\").\n",
    "\n",
    "5. **Displaying the Cleaned Class Names**:\n",
    "   - Finally, the cleaned class names are printed to verify that all the names have been processed correctly.\n",
    "\n",
    "This step is essential for ensuring that the class names are in a clean and consistent format, making it easier to handle the data during further steps in the project.\n"
   ]
  },
  {
   "cell_type": "code",
   "execution_count": 1,
   "id": "7746c5e0",
   "metadata": {
    "execution": {
     "iopub.execute_input": "2024-12-21T14:28:37.037476Z",
     "iopub.status.busy": "2024-12-21T14:28:37.037135Z",
     "iopub.status.idle": "2024-12-21T14:28:37.053043Z",
     "shell.execute_reply": "2024-12-21T14:28:37.052077Z"
    },
    "papermill": {
     "duration": 0.023839,
     "end_time": "2024-12-21T14:28:37.054625",
     "exception": false,
     "start_time": "2024-12-21T14:28:37.030786",
     "status": "completed"
    },
    "tags": []
   },
   "outputs": [
    {
     "name": "stdout",
     "output_type": "stream",
     "text": [
      "All class names: ['fox', 'wolf', 'horse', 'antelope', 'hamster', 'skunk', 'chimpanzee', 'lion', 'otter', 'giant panda', 'raccoon', 'hippopotamus', 'bobcat', 'pig', 'rat', 'spider monkey', 'buffalo', 'mouse', 'tiger', 'bat', 'grizzly bear', 'gorilla', 'dalmatian', 'killer whale', 'siamese cat', 'humpback whale', 'chihuahua', 'beaver', 'polar bear', 'german shepherd', 'elephant', 'sheep', 'collie', 'moose', 'zebra', 'seal', 'cow', 'ox', 'mole', 'rabbit', 'giraffe', 'persian cat', 'rhinoceros', 'dolphin', 'blue whale', 'squirrel', 'leopard', 'deer', 'weasel', 'walrus']\n"
     ]
    }
   ],
   "source": [
    "import os\n",
    "\n",
    "# Selected classes\n",
    "selected_classes = ['collie', 'dolphin', 'elephant', 'fox', 'moose', \n",
    "                    'rabbit', 'sheep', 'squirrel', 'giant panda', 'polar bear']\n",
    "\n",
    "# Directory where the dataset is located\n",
    "dataset_dir = '/kaggle/input/animals-with-attributes-2/Animals_with_Attributes2/JPEGImages'\n",
    "\n",
    "# Get all class directories\n",
    "all_classes = os.listdir(dataset_dir)\n",
    "\n",
    "# Convert all class names to lowercase and replace '+' with space\n",
    "all_classes_lower = [class_name.replace('+', ' ').lower() for class_name in all_classes]\n",
    "\n",
    "print(\"All class names:\", all_classes_lower)\n"
   ]
  },
  {
   "cell_type": "markdown",
   "id": "e77718d3",
   "metadata": {
    "papermill": {
     "duration": 0.005426,
     "end_time": "2024-12-21T14:28:37.065763",
     "exception": false,
     "start_time": "2024-12-21T14:28:37.060337",
     "status": "completed"
    },
    "tags": []
   },
   "source": [
    "## 1.1 Correcting and Matching Selected Class Names with Dataset Directories 🔄📁\n",
    "\n",
    "1. **Convert the names of selected classes to lowercase and replace '+' with spaces**:\n",
    "   - This step ensures that the class names from `selected_classes` match the formatted class names in the dataset directory (`all_classes_lower`). It accounts for case differences and replaces any '+' symbols with spaces to handle any inconsistencies in naming.\n",
    "   \n",
    "2. **Find matching directories**:\n",
    "   - For each class in `selected_classes`, we search for directories in `all_classes_lower` that contain the class name as a substring. This is helpful when the dataset class names are slightly different from the selected class names.\n",
    "   \n",
    "3. **Take the first match**:\n",
    "   - When a match is found for a class name, we append the first match to the `corrected_classes` list to ensure we are working with the correct directory name from the dataset.\n",
    "   \n",
    "4. **Print the matching class names**:\n",
    "   - Finally, the script prints out the list of corrected class names that were found in the dataset.\n"
   ]
  },
  {
   "cell_type": "code",
   "execution_count": 2,
   "id": "e79d92f5",
   "metadata": {
    "execution": {
     "iopub.execute_input": "2024-12-21T14:28:37.077718Z",
     "iopub.status.busy": "2024-12-21T14:28:37.077478Z",
     "iopub.status.idle": "2024-12-21T14:28:37.081674Z",
     "shell.execute_reply": "2024-12-21T14:28:37.080962Z"
    },
    "papermill": {
     "duration": 0.012185,
     "end_time": "2024-12-21T14:28:37.083548",
     "exception": false,
     "start_time": "2024-12-21T14:28:37.071363",
     "status": "completed"
    },
    "tags": []
   },
   "outputs": [
    {
     "name": "stdout",
     "output_type": "stream",
     "text": [
      "Matching class names: ['collie', 'dolphin', 'elephant', 'fox', 'moose', 'rabbit', 'sheep', 'squirrel', 'giant panda', 'polar bear']\n"
     ]
    }
   ],
   "source": [
    "# Convert the selected class names to lowercase and replace '+' with space to match them\n",
    "corrected_classes = []\n",
    "for class_name in selected_classes:\n",
    "    # Find directories that match the selected class name\n",
    "    matching_classes = [cls for cls in all_classes_lower if class_name.lower() in cls]\n",
    "    \n",
    "    if matching_classes:\n",
    "        corrected_classes.append(matching_classes[0])  # Take the first match\n",
    "\n",
    "print(\"Matching class names:\", corrected_classes)\n"
   ]
  },
  {
   "cell_type": "markdown",
   "id": "64a491a4",
   "metadata": {
    "papermill": {
     "duration": 0.005126,
     "end_time": "2024-12-21T14:28:37.094004",
     "exception": false,
     "start_time": "2024-12-21T14:28:37.088878",
     "status": "completed"
    },
    "tags": []
   },
   "source": [
    "# 2. Selecting and Copying the First 650 Images for Each Class ✂️\n",
    "\n",
    "In this section, we select the first 650 images for each of the matched classes and copy them into a new directory. \n",
    "\n",
    "1. **Output Directory Creation**: First, we check if the output directory exists, and if not, we create it using `os.makedirs`.\n",
    "   \n",
    "2. **Iterating Through Each Class**: For each class in the corrected list of selected classes, we:\n",
    "   - Construct the path to the original class directory.\n",
    "   - List all image files within that directory.\n",
    "   - Select the first 650 images from the list.\n",
    "\n",
    "3. **Creating Class-Specific Folders**: We create individual subdirectories for each class within the output directory if they don't already exist.\n",
    "\n",
    "4. **Copying the Selected Images**: Finally, we copy the selected 650 images from the original directory to the respective class-specific subdirectory in the output directory using `shutil.copy`.\n",
    "\n",
    "By the end of this process, we will have a subset of 650 images from each of the selected classes stored in a new directory structure.\n"
   ]
  },
  {
   "cell_type": "code",
   "execution_count": 3,
   "id": "b21f8e17",
   "metadata": {
    "execution": {
     "iopub.execute_input": "2024-12-21T14:28:37.105967Z",
     "iopub.status.busy": "2024-12-21T14:28:37.105755Z",
     "iopub.status.idle": "2024-12-21T14:29:34.790869Z",
     "shell.execute_reply": "2024-12-21T14:29:34.789945Z"
    },
    "papermill": {
     "duration": 57.699654,
     "end_time": "2024-12-21T14:29:34.798957",
     "exception": false,
     "start_time": "2024-12-21T14:28:37.099303",
     "status": "completed"
    },
    "tags": []
   },
   "outputs": [
    {
     "name": "stdout",
     "output_type": "stream",
     "text": [
      "The first 650 images have been selected and copied.\n"
     ]
    }
   ],
   "source": [
    "import shutil\n",
    "\n",
    "# Select the first 650 images for 10 classes and copy them\n",
    "output_dir = '/kaggle/working/processed_data'\n",
    "\n",
    "# Create the directories if they do not exist\n",
    "if not os.path.exists(output_dir):\n",
    "    os.makedirs(output_dir)\n",
    "\n",
    "for class_name in corrected_classes:\n",
    "    class_path = os.path.join(dataset_dir, class_name.replace(' ', '+'))  # Replacing the space with '+' as in the original name\n",
    "    images = os.listdir(class_path)\n",
    "    \n",
    "    # Select the first 650 images\n",
    "    images = images[:650]\n",
    "    \n",
    "    # Create a subfolder for each class\n",
    "    class_output_dir = os.path.join(output_dir, class_name)\n",
    "    if not os.path.exists(class_output_dir):\n",
    "        os.makedirs(class_output_dir)\n",
    "\n",
    "    # Copy the images\n",
    "    for image_name in images:\n",
    "        src = os.path.join(class_path, image_name)\n",
    "        dest = os.path.join(class_output_dir, image_name)\n",
    "        shutil.copy(src, dest)\n",
    "\n",
    "print(\"The first 650 images have been selected and copied.\")\n"
   ]
  },
  {
   "cell_type": "markdown",
   "id": "d29e80d6",
   "metadata": {
    "papermill": {
     "duration": 0.005596,
     "end_time": "2024-12-21T14:29:34.810111",
     "exception": false,
     "start_time": "2024-12-21T14:29:34.804515",
     "status": "completed"
    },
    "tags": []
   },
   "source": [
    "## 2.1 Image Processing and Normalization 🖼️🔧\n",
    "\n",
    "This code performs image processing and normalization on a dataset of animal images, resizing the images to a target size and normalizing the pixel values. The dataset consists of images from different animal classes, and the goal is to prepare the images for training a machine learning model.\n",
    "\n",
    "### Steps:\n",
    "\n",
    "1. **Import Required Libraries**:\n",
    "   - `cv2` (OpenCV): Used for image reading and resizing.\n",
    "   - `numpy`: Used for array operations.\n",
    "   - `os`: Used for file and directory operations.\n",
    "\n",
    "2. **Set Target Image Size**:\n",
    "   - `image_size = (224, 224)`: The target size for the images is set to 224x224 pixels. This is a common input size for image classification models like CNNs.\n",
    "\n",
    "3. **Set Dataset Directory**:\n",
    "   - `dataset_dir = '/kaggle/working/processed_data'`: The directory where the images are stored.\n",
    "\n",
    "4. **Initialize Lists for Storing Data**:\n",
    "   - `X = []`: A list to store the processed images.\n",
    "   - `y = []`: A list to store the corresponding labels for the images.\n",
    "\n",
    "5. **Label the Selected Classes**:\n",
    "   - A dictionary `labels` maps class names to numeric labels. The 10 classes are:\n",
    "     - Collie: 0\n",
    "     - Dolphin: 1\n",
    "     - Elephant: 2\n",
    "     - Fox: 3\n",
    "     - Moose: 4\n",
    "     - Rabbit: 5\n",
    "     - Sheep: 6\n",
    "     - Squirrel: 7\n",
    "     - Giant Panda: 8\n",
    "     - Polar Bear: 9\n",
    "\n",
    "6. **Process Images for Each Class**:\n",
    "   - For each class, the code loops through the images in the class directory, reads each image, resizes it to the target size, and normalizes the pixel values (scaling the pixel values to the range [0, 1]).\n",
    "   - `cv2.imread(image_path)`: Reads an image from the specified path.\n",
    "   - `cv2.resize(img, image_size)`: Resizes the image to the target size.\n",
    "   - `img_resized / 255.0`: Normalizes the image by dividing each pixel value by 255.\n",
    "\n",
    "7. **Store Processed Images and Labels**:\n",
    "   - The processed image and its corresponding label are appended to the lists `X` and `y`.\n",
    "\n",
    "8. **Convert Lists to NumPy Arrays**:\n",
    "   - `X = np.array(X)`: Converts the list of images to a NumPy array.\n",
    "   - `y = np.array(y)`: Converts the list of labels to a NumPy array.\n",
    "\n",
    "9. **Print Success Message**:\n",
    "   - After processing all images, a success message is printed to indicate that the images have been resized and normalized.\n",
    "\n",
    "### Output:\n",
    "- The processed images (`X`) and their corresponding labels (`y`) are now ready for use in training a machine learning model.\n"
   ]
  },
  {
   "cell_type": "code",
   "execution_count": 4,
   "id": "ea87f14f",
   "metadata": {
    "execution": {
     "iopub.execute_input": "2024-12-21T14:29:34.821867Z",
     "iopub.status.busy": "2024-12-21T14:29:34.821610Z",
     "iopub.status.idle": "2024-12-21T14:30:33.215897Z",
     "shell.execute_reply": "2024-12-21T14:30:33.214955Z"
    },
    "papermill": {
     "duration": 58.407929,
     "end_time": "2024-12-21T14:30:33.223325",
     "exception": false,
     "start_time": "2024-12-21T14:29:34.815396",
     "status": "completed"
    },
    "tags": []
   },
   "outputs": [
    {
     "name": "stdout",
     "output_type": "stream",
     "text": [
      "Images have been successfully resized and normalized.\n"
     ]
    }
   ],
   "source": [
    "import cv2\n",
    "import numpy as np\n",
    "import os\n",
    "\n",
    "# Target image size (e.g., 224x224)\n",
    "image_size = (224, 224)\n",
    "\n",
    "# Directory where the data is located\n",
    "dataset_dir = '/kaggle/working/processed_data'\n",
    "\n",
    "# Lists to store the images and labels\n",
    "X = []\n",
    "y = []\n",
    "\n",
    "# Labels for the selected classes\n",
    "labels = {'collie': 0, 'dolphin': 1, 'elephant': 2, 'fox': 3, 'moose': 4, \n",
    "          'rabbit': 5, 'sheep': 6, 'squirrel': 7, 'giant panda': 8, 'polar bear': 9}\n",
    "\n",
    "# Process the images for each class\n",
    "for class_name, label in labels.items():\n",
    "    class_dir = os.path.join(dataset_dir, class_name)\n",
    "    for image_name in os.listdir(class_dir):\n",
    "        image_path = os.path.join(class_dir, image_name)\n",
    "        \n",
    "        # Read and resize the image\n",
    "        img = cv2.imread(image_path)\n",
    "        img_resized = cv2.resize(img, image_size)  # Resize the image\n",
    "        \n",
    "        # Normalize the image\n",
    "        img_normalized = img_resized / 255.0\n",
    "        \n",
    "        # Add the image and its label to the lists\n",
    "        X.append(img_normalized)\n",
    "        y.append(label)\n",
    "\n",
    "# Convert X and y to numpy arrays\n",
    "X = np.array(X)\n",
    "y = np.array(y)\n",
    "\n",
    "print(\"Images have been successfully resized and normalized.\")\n"
   ]
  },
  {
   "cell_type": "markdown",
   "id": "9ebdf4cd",
   "metadata": {
    "papermill": {
     "duration": 0.005394,
     "end_time": "2024-12-21T14:30:33.234505",
     "exception": false,
     "start_time": "2024-12-21T14:30:33.229111",
     "status": "completed"
    },
    "tags": []
   },
   "source": [
    "## 2.2 Splitting the Dataset into Training and Testing Sets 📅🔀\n",
    "\n",
    "This code snippet splits the dataset into training and testing sets using the `train_test_split` function from the `sklearn.model_selection` module.\n",
    "\n",
    "1. **Importing the `train_test_split` Function**:\n",
    "   - The `train_test_split` function is imported from the `sklearn.model_selection` library. This function is used to split the dataset into training and testing sets.\n",
    "\n",
    "2. **Splitting the Data**:\n",
    "   - `X_train, X_test, y_train, y_test = train_test_split(X, y, test_size=0.3, random_state=42)`\n",
    "     - `X` contains the input features (the images in this case), and `y` contains the labels (the corresponding class labels).\n",
    "     - `test_size=0.3` specifies that 30% of the data will be used for testing, and the remaining 70% will be used for training.\n",
    "     - `random_state=42` ensures that the split is reproducible, meaning the same split will be generated each time the code is run.\n",
    "\n",
    "3. **Printing the Confirmation**:\n",
    "   - `print(\"Data has been successfully split into training and testing sets.\")` confirms that the data has been successfully split into training and testing sets.\n",
    "\n",
    "### Purpose\n",
    "This step is crucial for evaluating the performance of a machine learning model by training it on a subset of the data and testing it on a separate, unseen subset.\n"
   ]
  },
  {
   "cell_type": "code",
   "execution_count": 5,
   "id": "de1a408c",
   "metadata": {
    "execution": {
     "iopub.execute_input": "2024-12-21T14:30:33.246719Z",
     "iopub.status.busy": "2024-12-21T14:30:33.246438Z",
     "iopub.status.idle": "2024-12-21T14:30:39.543201Z",
     "shell.execute_reply": "2024-12-21T14:30:39.542200Z"
    },
    "papermill": {
     "duration": 6.305009,
     "end_time": "2024-12-21T14:30:39.545082",
     "exception": false,
     "start_time": "2024-12-21T14:30:33.240073",
     "status": "completed"
    },
    "tags": []
   },
   "outputs": [
    {
     "name": "stdout",
     "output_type": "stream",
     "text": [
      "Data has been successfully split into training and testing sets.\n"
     ]
    }
   ],
   "source": [
    "from sklearn.model_selection import train_test_split\n",
    "\n",
    "# Split the data into training and testing sets\n",
    "X_train, X_test, y_train, y_test = train_test_split(X, y, test_size=0.3, random_state=42)\n",
    "\n",
    "print(\"Data has been successfully split into training and testing sets.\")\n"
   ]
  },
  {
   "cell_type": "markdown",
   "id": "55b6612b",
   "metadata": {
    "papermill": {
     "duration": 0.005634,
     "end_time": "2024-12-21T14:30:39.556577",
     "exception": false,
     "start_time": "2024-12-21T14:30:39.550943",
     "status": "completed"
    },
    "tags": []
   },
   "source": [
    "### 2.3 Data Augmentation for Image Preprocessing 🔄📸\n",
    "\n",
    "This code snippet uses TensorFlow's `ImageDataGenerator` to apply various augmentation techniques to the training images. The augmentation techniques include:\n",
    "\n",
    "- **Rotation** 🔄: Randomly rotates the image by up to 30 degrees.\n",
    "- **Width Shift** ↔️: Randomly shifts the image horizontally by 20%.\n",
    "- **Height Shift** ↕️: Randomly shifts the image vertically by 20%.\n",
    "- **Shear** 🏗️: Applies shearing transformation, tilting the image by up to 20%.\n",
    "- **Zoom** 🔍: Random zoom effect, magnifying the image by up to 20%.\n",
    "- **Horizontal Flip** ↩️: Randomly flips the image horizontally.\n",
    "- **Fill Mode** 🖼️: Specifies how to fill missing pixel areas after transformation (using the 'nearest' mode).\n",
    "\n",
    "These augmentations will help increase the diversity of the training data, thus preventing overfitting and improving the model's generalization.\n"
   ]
  },
  {
   "cell_type": "code",
   "execution_count": 6,
   "id": "73430014",
   "metadata": {
    "execution": {
     "iopub.execute_input": "2024-12-21T14:30:39.569137Z",
     "iopub.status.busy": "2024-12-21T14:30:39.568715Z",
     "iopub.status.idle": "2024-12-21T14:31:00.455719Z",
     "shell.execute_reply": "2024-12-21T14:31:00.454386Z"
    },
    "papermill": {
     "duration": 20.895594,
     "end_time": "2024-12-21T14:31:00.457876",
     "exception": false,
     "start_time": "2024-12-21T14:30:39.562282",
     "status": "completed"
    },
    "tags": []
   },
   "outputs": [
    {
     "name": "stdout",
     "output_type": "stream",
     "text": [
      "Data augmentation is ready.\n"
     ]
    }
   ],
   "source": [
    "from tensorflow.keras.preprocessing.image import ImageDataGenerator\n",
    "\n",
    "# Creating the ImageDataGenerator for data augmentation\n",
    "datagen = ImageDataGenerator(\n",
    "    rotation_range=30,    # Rotate the image by 30 degrees\n",
    "    width_shift_range=0.2, # Shift width by 20%\n",
    "    height_shift_range=0.2, # Shift height by 20%\n",
    "    shear_range=0.2,      # Apply shearing (tilting)\n",
    "    zoom_range=0.2,       # Apply zoom (magnification)\n",
    "    horizontal_flip=True, # Flip horizontally\n",
    "    fill_mode='nearest'  # Fill missing pixel areas\n",
    ")\n",
    "\n",
    "# Applying data augmentation to the training data\n",
    "datagen.fit(X_train)\n",
    "\n",
    "print(\"Data augmentation is ready.\")\n"
   ]
  },
  {
   "cell_type": "markdown",
   "id": "c1484355",
   "metadata": {
    "papermill": {
     "duration": 0.005512,
     "end_time": "2024-12-21T14:31:00.471181",
     "exception": false,
     "start_time": "2024-12-21T14:31:00.465669",
     "status": "completed"
    },
    "tags": []
   },
   "source": [
    "# 3. Convolutional Neural Network (CNN) Model Architecture 🧠🔍\n",
    "\n",
    "This model is designed for image classification with the following architecture:\n",
    "\n",
    "## Model Architecture Overview\n",
    "\n",
    "The model uses Convolutional Neural Network (CNN) layers with multiple convolutional layers, batch normalization, pooling layers, and fully connected layers. It also includes dropout layers to reduce overfitting. The model is optimized with the Adam optimizer and compiled with a learning rate of 0.0005.\n",
    "\n",
    "### Layer Breakdown\n",
    "\n",
    "1. **Conv2D Layers** 🌀:\n",
    "    - The model starts with a sequence of 5 convolutional layers, each followed by Batch Normalization and MaxPooling2D layers.\n",
    "    - The number of filters increases as the model goes deeper, starting from 32 filters and going up to 512 filters in the fifth convolutional layer.\n",
    "\n",
    "2. **Batch Normalization** ⚙️:\n",
    "    - Batch normalization is applied after each convolutional layer to help improve training speed and stability.\n",
    "\n",
    "3. **MaxPooling2D Layers** 🔽:\n",
    "    - After each convolutional layer, MaxPooling2D is applied to downsample the spatial dimensions of the feature maps and reduce computational complexity.\n",
    "\n",
    "4. **Global Average Pooling** 🌐:\n",
    "    - Replaces the fully connected layers with a `GlobalAveragePooling2D` layer that performs average pooling on the feature maps, reducing the model complexity and helping prevent overfitting.\n",
    "\n",
    "5. **Fully Connected Layers** 🔗:\n",
    "    - The model includes two fully connected `Dense` layers:\n",
    "        - The first Dense layer has 2048 neurons, followed by a `Dropout` layer with a rate of 0.4.\n",
    "        - The second Dense layer has 1024 neurons, also followed by a `Dropout` layer with a rate of 0.4.\n",
    "\n",
    "6. **Output Layer** 🔢:\n",
    "    - The final output layer has 10 neurons with a `softmax` activation function, as the model is designed for 10-class classification.\n",
    "\n",
    "7. **Optimizer** ⚡:\n",
    "    - The model is compiled using the `Adam` optimizer with a learning rate of 0.0005.\n",
    "\n",
    "### Key Features of the Model:\n",
    "- **Deep Architecture** 🏗️: The model has a deep structure with increasing complexity in the convolutional layers.\n",
    "- **Batch Normalization** ⚙️: Helps speed up training and improve generalization.\n",
    "- **Dropout** 🚫: Applied to fully connected layers to reduce overfitting.\n",
    "- **Global Average Pooling** 🌐: Reduces overfitting by reducing the number of parameters in the final layers.\n",
    "\n",
    "### Model Summary:\n",
    "The model is designed to handle 10-class image classification tasks. By applying deeper layers, dropout regularization, batch normalization, and global average pooling, it aims to achieve high performance while minimizing overfitting.\n"
   ]
  },
  {
   "cell_type": "code",
   "execution_count": 7,
   "id": "97a59213",
   "metadata": {
    "execution": {
     "iopub.execute_input": "2024-12-21T14:31:00.484244Z",
     "iopub.status.busy": "2024-12-21T14:31:00.483662Z",
     "iopub.status.idle": "2024-12-21T14:31:01.445894Z",
     "shell.execute_reply": "2024-12-21T14:31:01.445092Z"
    },
    "papermill": {
     "duration": 0.970995,
     "end_time": "2024-12-21T14:31:01.447889",
     "exception": false,
     "start_time": "2024-12-21T14:31:00.476894",
     "status": "completed"
    },
    "tags": []
   },
   "outputs": [
    {
     "name": "stderr",
     "output_type": "stream",
     "text": [
      "/opt/conda/lib/python3.10/site-packages/keras/src/layers/convolutional/base_conv.py:107: UserWarning: Do not pass an `input_shape`/`input_dim` argument to a layer. When using Sequential models, prefer using an `Input(shape)` object as the first layer in the model instead.\n",
      "  super().__init__(activity_regularizer=activity_regularizer, **kwargs)\n"
     ]
    },
    {
     "data": {
      "text/html": [
       "<pre style=\"white-space:pre;overflow-x:auto;line-height:normal;font-family:Menlo,'DejaVu Sans Mono',consolas,'Courier New',monospace\"><span style=\"font-weight: bold\">Model: \"sequential\"</span>\n",
       "</pre>\n"
      ],
      "text/plain": [
       "\u001b[1mModel: \"sequential\"\u001b[0m\n"
      ]
     },
     "metadata": {},
     "output_type": "display_data"
    },
    {
     "data": {
      "text/html": [
       "<pre style=\"white-space:pre;overflow-x:auto;line-height:normal;font-family:Menlo,'DejaVu Sans Mono',consolas,'Courier New',monospace\">┏━━━━━━━━━━━━━━━━━━━━━━━━━━━━━━━━━┳━━━━━━━━━━━━━━━━━━━━━━━━┳━━━━━━━━━━━━━━━┓\n",
       "┃<span style=\"font-weight: bold\"> Layer (type)                    </span>┃<span style=\"font-weight: bold\"> Output Shape           </span>┃<span style=\"font-weight: bold\">       Param # </span>┃\n",
       "┡━━━━━━━━━━━━━━━━━━━━━━━━━━━━━━━━━╇━━━━━━━━━━━━━━━━━━━━━━━━╇━━━━━━━━━━━━━━━┩\n",
       "│ conv2d (<span style=\"color: #0087ff; text-decoration-color: #0087ff\">Conv2D</span>)                 │ (<span style=\"color: #00d7ff; text-decoration-color: #00d7ff\">None</span>, <span style=\"color: #00af00; text-decoration-color: #00af00\">222</span>, <span style=\"color: #00af00; text-decoration-color: #00af00\">222</span>, <span style=\"color: #00af00; text-decoration-color: #00af00\">32</span>)   │           <span style=\"color: #00af00; text-decoration-color: #00af00\">896</span> │\n",
       "├─────────────────────────────────┼────────────────────────┼───────────────┤\n",
       "│ batch_normalization             │ (<span style=\"color: #00d7ff; text-decoration-color: #00d7ff\">None</span>, <span style=\"color: #00af00; text-decoration-color: #00af00\">222</span>, <span style=\"color: #00af00; text-decoration-color: #00af00\">222</span>, <span style=\"color: #00af00; text-decoration-color: #00af00\">32</span>)   │           <span style=\"color: #00af00; text-decoration-color: #00af00\">128</span> │\n",
       "│ (<span style=\"color: #0087ff; text-decoration-color: #0087ff\">BatchNormalization</span>)            │                        │               │\n",
       "├─────────────────────────────────┼────────────────────────┼───────────────┤\n",
       "│ max_pooling2d (<span style=\"color: #0087ff; text-decoration-color: #0087ff\">MaxPooling2D</span>)    │ (<span style=\"color: #00d7ff; text-decoration-color: #00d7ff\">None</span>, <span style=\"color: #00af00; text-decoration-color: #00af00\">111</span>, <span style=\"color: #00af00; text-decoration-color: #00af00\">111</span>, <span style=\"color: #00af00; text-decoration-color: #00af00\">32</span>)   │             <span style=\"color: #00af00; text-decoration-color: #00af00\">0</span> │\n",
       "├─────────────────────────────────┼────────────────────────┼───────────────┤\n",
       "│ conv2d_1 (<span style=\"color: #0087ff; text-decoration-color: #0087ff\">Conv2D</span>)               │ (<span style=\"color: #00d7ff; text-decoration-color: #00d7ff\">None</span>, <span style=\"color: #00af00; text-decoration-color: #00af00\">109</span>, <span style=\"color: #00af00; text-decoration-color: #00af00\">109</span>, <span style=\"color: #00af00; text-decoration-color: #00af00\">64</span>)   │        <span style=\"color: #00af00; text-decoration-color: #00af00\">18,496</span> │\n",
       "├─────────────────────────────────┼────────────────────────┼───────────────┤\n",
       "│ batch_normalization_1           │ (<span style=\"color: #00d7ff; text-decoration-color: #00d7ff\">None</span>, <span style=\"color: #00af00; text-decoration-color: #00af00\">109</span>, <span style=\"color: #00af00; text-decoration-color: #00af00\">109</span>, <span style=\"color: #00af00; text-decoration-color: #00af00\">64</span>)   │           <span style=\"color: #00af00; text-decoration-color: #00af00\">256</span> │\n",
       "│ (<span style=\"color: #0087ff; text-decoration-color: #0087ff\">BatchNormalization</span>)            │                        │               │\n",
       "├─────────────────────────────────┼────────────────────────┼───────────────┤\n",
       "│ max_pooling2d_1 (<span style=\"color: #0087ff; text-decoration-color: #0087ff\">MaxPooling2D</span>)  │ (<span style=\"color: #00d7ff; text-decoration-color: #00d7ff\">None</span>, <span style=\"color: #00af00; text-decoration-color: #00af00\">54</span>, <span style=\"color: #00af00; text-decoration-color: #00af00\">54</span>, <span style=\"color: #00af00; text-decoration-color: #00af00\">64</span>)     │             <span style=\"color: #00af00; text-decoration-color: #00af00\">0</span> │\n",
       "├─────────────────────────────────┼────────────────────────┼───────────────┤\n",
       "│ conv2d_2 (<span style=\"color: #0087ff; text-decoration-color: #0087ff\">Conv2D</span>)               │ (<span style=\"color: #00d7ff; text-decoration-color: #00d7ff\">None</span>, <span style=\"color: #00af00; text-decoration-color: #00af00\">52</span>, <span style=\"color: #00af00; text-decoration-color: #00af00\">52</span>, <span style=\"color: #00af00; text-decoration-color: #00af00\">128</span>)    │        <span style=\"color: #00af00; text-decoration-color: #00af00\">73,856</span> │\n",
       "├─────────────────────────────────┼────────────────────────┼───────────────┤\n",
       "│ batch_normalization_2           │ (<span style=\"color: #00d7ff; text-decoration-color: #00d7ff\">None</span>, <span style=\"color: #00af00; text-decoration-color: #00af00\">52</span>, <span style=\"color: #00af00; text-decoration-color: #00af00\">52</span>, <span style=\"color: #00af00; text-decoration-color: #00af00\">128</span>)    │           <span style=\"color: #00af00; text-decoration-color: #00af00\">512</span> │\n",
       "│ (<span style=\"color: #0087ff; text-decoration-color: #0087ff\">BatchNormalization</span>)            │                        │               │\n",
       "├─────────────────────────────────┼────────────────────────┼───────────────┤\n",
       "│ max_pooling2d_2 (<span style=\"color: #0087ff; text-decoration-color: #0087ff\">MaxPooling2D</span>)  │ (<span style=\"color: #00d7ff; text-decoration-color: #00d7ff\">None</span>, <span style=\"color: #00af00; text-decoration-color: #00af00\">26</span>, <span style=\"color: #00af00; text-decoration-color: #00af00\">26</span>, <span style=\"color: #00af00; text-decoration-color: #00af00\">128</span>)    │             <span style=\"color: #00af00; text-decoration-color: #00af00\">0</span> │\n",
       "├─────────────────────────────────┼────────────────────────┼───────────────┤\n",
       "│ conv2d_3 (<span style=\"color: #0087ff; text-decoration-color: #0087ff\">Conv2D</span>)               │ (<span style=\"color: #00d7ff; text-decoration-color: #00d7ff\">None</span>, <span style=\"color: #00af00; text-decoration-color: #00af00\">24</span>, <span style=\"color: #00af00; text-decoration-color: #00af00\">24</span>, <span style=\"color: #00af00; text-decoration-color: #00af00\">256</span>)    │       <span style=\"color: #00af00; text-decoration-color: #00af00\">295,168</span> │\n",
       "├─────────────────────────────────┼────────────────────────┼───────────────┤\n",
       "│ batch_normalization_3           │ (<span style=\"color: #00d7ff; text-decoration-color: #00d7ff\">None</span>, <span style=\"color: #00af00; text-decoration-color: #00af00\">24</span>, <span style=\"color: #00af00; text-decoration-color: #00af00\">24</span>, <span style=\"color: #00af00; text-decoration-color: #00af00\">256</span>)    │         <span style=\"color: #00af00; text-decoration-color: #00af00\">1,024</span> │\n",
       "│ (<span style=\"color: #0087ff; text-decoration-color: #0087ff\">BatchNormalization</span>)            │                        │               │\n",
       "├─────────────────────────────────┼────────────────────────┼───────────────┤\n",
       "│ max_pooling2d_3 (<span style=\"color: #0087ff; text-decoration-color: #0087ff\">MaxPooling2D</span>)  │ (<span style=\"color: #00d7ff; text-decoration-color: #00d7ff\">None</span>, <span style=\"color: #00af00; text-decoration-color: #00af00\">12</span>, <span style=\"color: #00af00; text-decoration-color: #00af00\">12</span>, <span style=\"color: #00af00; text-decoration-color: #00af00\">256</span>)    │             <span style=\"color: #00af00; text-decoration-color: #00af00\">0</span> │\n",
       "├─────────────────────────────────┼────────────────────────┼───────────────┤\n",
       "│ conv2d_4 (<span style=\"color: #0087ff; text-decoration-color: #0087ff\">Conv2D</span>)               │ (<span style=\"color: #00d7ff; text-decoration-color: #00d7ff\">None</span>, <span style=\"color: #00af00; text-decoration-color: #00af00\">10</span>, <span style=\"color: #00af00; text-decoration-color: #00af00\">10</span>, <span style=\"color: #00af00; text-decoration-color: #00af00\">512</span>)    │     <span style=\"color: #00af00; text-decoration-color: #00af00\">1,180,160</span> │\n",
       "├─────────────────────────────────┼────────────────────────┼───────────────┤\n",
       "│ batch_normalization_4           │ (<span style=\"color: #00d7ff; text-decoration-color: #00d7ff\">None</span>, <span style=\"color: #00af00; text-decoration-color: #00af00\">10</span>, <span style=\"color: #00af00; text-decoration-color: #00af00\">10</span>, <span style=\"color: #00af00; text-decoration-color: #00af00\">512</span>)    │         <span style=\"color: #00af00; text-decoration-color: #00af00\">2,048</span> │\n",
       "│ (<span style=\"color: #0087ff; text-decoration-color: #0087ff\">BatchNormalization</span>)            │                        │               │\n",
       "├─────────────────────────────────┼────────────────────────┼───────────────┤\n",
       "│ max_pooling2d_4 (<span style=\"color: #0087ff; text-decoration-color: #0087ff\">MaxPooling2D</span>)  │ (<span style=\"color: #00d7ff; text-decoration-color: #00d7ff\">None</span>, <span style=\"color: #00af00; text-decoration-color: #00af00\">5</span>, <span style=\"color: #00af00; text-decoration-color: #00af00\">5</span>, <span style=\"color: #00af00; text-decoration-color: #00af00\">512</span>)      │             <span style=\"color: #00af00; text-decoration-color: #00af00\">0</span> │\n",
       "├─────────────────────────────────┼────────────────────────┼───────────────┤\n",
       "│ global_average_pooling2d        │ (<span style=\"color: #00d7ff; text-decoration-color: #00d7ff\">None</span>, <span style=\"color: #00af00; text-decoration-color: #00af00\">512</span>)            │             <span style=\"color: #00af00; text-decoration-color: #00af00\">0</span> │\n",
       "│ (<span style=\"color: #0087ff; text-decoration-color: #0087ff\">GlobalAveragePooling2D</span>)        │                        │               │\n",
       "├─────────────────────────────────┼────────────────────────┼───────────────┤\n",
       "│ dense (<span style=\"color: #0087ff; text-decoration-color: #0087ff\">Dense</span>)                   │ (<span style=\"color: #00d7ff; text-decoration-color: #00d7ff\">None</span>, <span style=\"color: #00af00; text-decoration-color: #00af00\">2048</span>)           │     <span style=\"color: #00af00; text-decoration-color: #00af00\">1,050,624</span> │\n",
       "├─────────────────────────────────┼────────────────────────┼───────────────┤\n",
       "│ dropout (<span style=\"color: #0087ff; text-decoration-color: #0087ff\">Dropout</span>)               │ (<span style=\"color: #00d7ff; text-decoration-color: #00d7ff\">None</span>, <span style=\"color: #00af00; text-decoration-color: #00af00\">2048</span>)           │             <span style=\"color: #00af00; text-decoration-color: #00af00\">0</span> │\n",
       "├─────────────────────────────────┼────────────────────────┼───────────────┤\n",
       "│ dense_1 (<span style=\"color: #0087ff; text-decoration-color: #0087ff\">Dense</span>)                 │ (<span style=\"color: #00d7ff; text-decoration-color: #00d7ff\">None</span>, <span style=\"color: #00af00; text-decoration-color: #00af00\">1024</span>)           │     <span style=\"color: #00af00; text-decoration-color: #00af00\">2,098,176</span> │\n",
       "├─────────────────────────────────┼────────────────────────┼───────────────┤\n",
       "│ dropout_1 (<span style=\"color: #0087ff; text-decoration-color: #0087ff\">Dropout</span>)             │ (<span style=\"color: #00d7ff; text-decoration-color: #00d7ff\">None</span>, <span style=\"color: #00af00; text-decoration-color: #00af00\">1024</span>)           │             <span style=\"color: #00af00; text-decoration-color: #00af00\">0</span> │\n",
       "├─────────────────────────────────┼────────────────────────┼───────────────┤\n",
       "│ dense_2 (<span style=\"color: #0087ff; text-decoration-color: #0087ff\">Dense</span>)                 │ (<span style=\"color: #00d7ff; text-decoration-color: #00d7ff\">None</span>, <span style=\"color: #00af00; text-decoration-color: #00af00\">10</span>)             │        <span style=\"color: #00af00; text-decoration-color: #00af00\">10,250</span> │\n",
       "└─────────────────────────────────┴────────────────────────┴───────────────┘\n",
       "</pre>\n"
      ],
      "text/plain": [
       "┏━━━━━━━━━━━━━━━━━━━━━━━━━━━━━━━━━┳━━━━━━━━━━━━━━━━━━━━━━━━┳━━━━━━━━━━━━━━━┓\n",
       "┃\u001b[1m \u001b[0m\u001b[1mLayer (type)                   \u001b[0m\u001b[1m \u001b[0m┃\u001b[1m \u001b[0m\u001b[1mOutput Shape          \u001b[0m\u001b[1m \u001b[0m┃\u001b[1m \u001b[0m\u001b[1m      Param #\u001b[0m\u001b[1m \u001b[0m┃\n",
       "┡━━━━━━━━━━━━━━━━━━━━━━━━━━━━━━━━━╇━━━━━━━━━━━━━━━━━━━━━━━━╇━━━━━━━━━━━━━━━┩\n",
       "│ conv2d (\u001b[38;5;33mConv2D\u001b[0m)                 │ (\u001b[38;5;45mNone\u001b[0m, \u001b[38;5;34m222\u001b[0m, \u001b[38;5;34m222\u001b[0m, \u001b[38;5;34m32\u001b[0m)   │           \u001b[38;5;34m896\u001b[0m │\n",
       "├─────────────────────────────────┼────────────────────────┼───────────────┤\n",
       "│ batch_normalization             │ (\u001b[38;5;45mNone\u001b[0m, \u001b[38;5;34m222\u001b[0m, \u001b[38;5;34m222\u001b[0m, \u001b[38;5;34m32\u001b[0m)   │           \u001b[38;5;34m128\u001b[0m │\n",
       "│ (\u001b[38;5;33mBatchNormalization\u001b[0m)            │                        │               │\n",
       "├─────────────────────────────────┼────────────────────────┼───────────────┤\n",
       "│ max_pooling2d (\u001b[38;5;33mMaxPooling2D\u001b[0m)    │ (\u001b[38;5;45mNone\u001b[0m, \u001b[38;5;34m111\u001b[0m, \u001b[38;5;34m111\u001b[0m, \u001b[38;5;34m32\u001b[0m)   │             \u001b[38;5;34m0\u001b[0m │\n",
       "├─────────────────────────────────┼────────────────────────┼───────────────┤\n",
       "│ conv2d_1 (\u001b[38;5;33mConv2D\u001b[0m)               │ (\u001b[38;5;45mNone\u001b[0m, \u001b[38;5;34m109\u001b[0m, \u001b[38;5;34m109\u001b[0m, \u001b[38;5;34m64\u001b[0m)   │        \u001b[38;5;34m18,496\u001b[0m │\n",
       "├─────────────────────────────────┼────────────────────────┼───────────────┤\n",
       "│ batch_normalization_1           │ (\u001b[38;5;45mNone\u001b[0m, \u001b[38;5;34m109\u001b[0m, \u001b[38;5;34m109\u001b[0m, \u001b[38;5;34m64\u001b[0m)   │           \u001b[38;5;34m256\u001b[0m │\n",
       "│ (\u001b[38;5;33mBatchNormalization\u001b[0m)            │                        │               │\n",
       "├─────────────────────────────────┼────────────────────────┼───────────────┤\n",
       "│ max_pooling2d_1 (\u001b[38;5;33mMaxPooling2D\u001b[0m)  │ (\u001b[38;5;45mNone\u001b[0m, \u001b[38;5;34m54\u001b[0m, \u001b[38;5;34m54\u001b[0m, \u001b[38;5;34m64\u001b[0m)     │             \u001b[38;5;34m0\u001b[0m │\n",
       "├─────────────────────────────────┼────────────────────────┼───────────────┤\n",
       "│ conv2d_2 (\u001b[38;5;33mConv2D\u001b[0m)               │ (\u001b[38;5;45mNone\u001b[0m, \u001b[38;5;34m52\u001b[0m, \u001b[38;5;34m52\u001b[0m, \u001b[38;5;34m128\u001b[0m)    │        \u001b[38;5;34m73,856\u001b[0m │\n",
       "├─────────────────────────────────┼────────────────────────┼───────────────┤\n",
       "│ batch_normalization_2           │ (\u001b[38;5;45mNone\u001b[0m, \u001b[38;5;34m52\u001b[0m, \u001b[38;5;34m52\u001b[0m, \u001b[38;5;34m128\u001b[0m)    │           \u001b[38;5;34m512\u001b[0m │\n",
       "│ (\u001b[38;5;33mBatchNormalization\u001b[0m)            │                        │               │\n",
       "├─────────────────────────────────┼────────────────────────┼───────────────┤\n",
       "│ max_pooling2d_2 (\u001b[38;5;33mMaxPooling2D\u001b[0m)  │ (\u001b[38;5;45mNone\u001b[0m, \u001b[38;5;34m26\u001b[0m, \u001b[38;5;34m26\u001b[0m, \u001b[38;5;34m128\u001b[0m)    │             \u001b[38;5;34m0\u001b[0m │\n",
       "├─────────────────────────────────┼────────────────────────┼───────────────┤\n",
       "│ conv2d_3 (\u001b[38;5;33mConv2D\u001b[0m)               │ (\u001b[38;5;45mNone\u001b[0m, \u001b[38;5;34m24\u001b[0m, \u001b[38;5;34m24\u001b[0m, \u001b[38;5;34m256\u001b[0m)    │       \u001b[38;5;34m295,168\u001b[0m │\n",
       "├─────────────────────────────────┼────────────────────────┼───────────────┤\n",
       "│ batch_normalization_3           │ (\u001b[38;5;45mNone\u001b[0m, \u001b[38;5;34m24\u001b[0m, \u001b[38;5;34m24\u001b[0m, \u001b[38;5;34m256\u001b[0m)    │         \u001b[38;5;34m1,024\u001b[0m │\n",
       "│ (\u001b[38;5;33mBatchNormalization\u001b[0m)            │                        │               │\n",
       "├─────────────────────────────────┼────────────────────────┼───────────────┤\n",
       "│ max_pooling2d_3 (\u001b[38;5;33mMaxPooling2D\u001b[0m)  │ (\u001b[38;5;45mNone\u001b[0m, \u001b[38;5;34m12\u001b[0m, \u001b[38;5;34m12\u001b[0m, \u001b[38;5;34m256\u001b[0m)    │             \u001b[38;5;34m0\u001b[0m │\n",
       "├─────────────────────────────────┼────────────────────────┼───────────────┤\n",
       "│ conv2d_4 (\u001b[38;5;33mConv2D\u001b[0m)               │ (\u001b[38;5;45mNone\u001b[0m, \u001b[38;5;34m10\u001b[0m, \u001b[38;5;34m10\u001b[0m, \u001b[38;5;34m512\u001b[0m)    │     \u001b[38;5;34m1,180,160\u001b[0m │\n",
       "├─────────────────────────────────┼────────────────────────┼───────────────┤\n",
       "│ batch_normalization_4           │ (\u001b[38;5;45mNone\u001b[0m, \u001b[38;5;34m10\u001b[0m, \u001b[38;5;34m10\u001b[0m, \u001b[38;5;34m512\u001b[0m)    │         \u001b[38;5;34m2,048\u001b[0m │\n",
       "│ (\u001b[38;5;33mBatchNormalization\u001b[0m)            │                        │               │\n",
       "├─────────────────────────────────┼────────────────────────┼───────────────┤\n",
       "│ max_pooling2d_4 (\u001b[38;5;33mMaxPooling2D\u001b[0m)  │ (\u001b[38;5;45mNone\u001b[0m, \u001b[38;5;34m5\u001b[0m, \u001b[38;5;34m5\u001b[0m, \u001b[38;5;34m512\u001b[0m)      │             \u001b[38;5;34m0\u001b[0m │\n",
       "├─────────────────────────────────┼────────────────────────┼───────────────┤\n",
       "│ global_average_pooling2d        │ (\u001b[38;5;45mNone\u001b[0m, \u001b[38;5;34m512\u001b[0m)            │             \u001b[38;5;34m0\u001b[0m │\n",
       "│ (\u001b[38;5;33mGlobalAveragePooling2D\u001b[0m)        │                        │               │\n",
       "├─────────────────────────────────┼────────────────────────┼───────────────┤\n",
       "│ dense (\u001b[38;5;33mDense\u001b[0m)                   │ (\u001b[38;5;45mNone\u001b[0m, \u001b[38;5;34m2048\u001b[0m)           │     \u001b[38;5;34m1,050,624\u001b[0m │\n",
       "├─────────────────────────────────┼────────────────────────┼───────────────┤\n",
       "│ dropout (\u001b[38;5;33mDropout\u001b[0m)               │ (\u001b[38;5;45mNone\u001b[0m, \u001b[38;5;34m2048\u001b[0m)           │             \u001b[38;5;34m0\u001b[0m │\n",
       "├─────────────────────────────────┼────────────────────────┼───────────────┤\n",
       "│ dense_1 (\u001b[38;5;33mDense\u001b[0m)                 │ (\u001b[38;5;45mNone\u001b[0m, \u001b[38;5;34m1024\u001b[0m)           │     \u001b[38;5;34m2,098,176\u001b[0m │\n",
       "├─────────────────────────────────┼────────────────────────┼───────────────┤\n",
       "│ dropout_1 (\u001b[38;5;33mDropout\u001b[0m)             │ (\u001b[38;5;45mNone\u001b[0m, \u001b[38;5;34m1024\u001b[0m)           │             \u001b[38;5;34m0\u001b[0m │\n",
       "├─────────────────────────────────┼────────────────────────┼───────────────┤\n",
       "│ dense_2 (\u001b[38;5;33mDense\u001b[0m)                 │ (\u001b[38;5;45mNone\u001b[0m, \u001b[38;5;34m10\u001b[0m)             │        \u001b[38;5;34m10,250\u001b[0m │\n",
       "└─────────────────────────────────┴────────────────────────┴───────────────┘\n"
      ]
     },
     "metadata": {},
     "output_type": "display_data"
    },
    {
     "data": {
      "text/html": [
       "<pre style=\"white-space:pre;overflow-x:auto;line-height:normal;font-family:Menlo,'DejaVu Sans Mono',consolas,'Courier New',monospace\"><span style=\"font-weight: bold\"> Total params: </span><span style=\"color: #00af00; text-decoration-color: #00af00\">4,731,594</span> (18.05 MB)\n",
       "</pre>\n"
      ],
      "text/plain": [
       "\u001b[1m Total params: \u001b[0m\u001b[38;5;34m4,731,594\u001b[0m (18.05 MB)\n"
      ]
     },
     "metadata": {},
     "output_type": "display_data"
    },
    {
     "data": {
      "text/html": [
       "<pre style=\"white-space:pre;overflow-x:auto;line-height:normal;font-family:Menlo,'DejaVu Sans Mono',consolas,'Courier New',monospace\"><span style=\"font-weight: bold\"> Trainable params: </span><span style=\"color: #00af00; text-decoration-color: #00af00\">4,729,610</span> (18.04 MB)\n",
       "</pre>\n"
      ],
      "text/plain": [
       "\u001b[1m Trainable params: \u001b[0m\u001b[38;5;34m4,729,610\u001b[0m (18.04 MB)\n"
      ]
     },
     "metadata": {},
     "output_type": "display_data"
    },
    {
     "data": {
      "text/html": [
       "<pre style=\"white-space:pre;overflow-x:auto;line-height:normal;font-family:Menlo,'DejaVu Sans Mono',consolas,'Courier New',monospace\"><span style=\"font-weight: bold\"> Non-trainable params: </span><span style=\"color: #00af00; text-decoration-color: #00af00\">1,984</span> (7.75 KB)\n",
       "</pre>\n"
      ],
      "text/plain": [
       "\u001b[1m Non-trainable params: \u001b[0m\u001b[38;5;34m1,984\u001b[0m (7.75 KB)\n"
      ]
     },
     "metadata": {},
     "output_type": "display_data"
    }
   ],
   "source": [
    "from tensorflow.keras.models import Sequential\n",
    "from tensorflow.keras.layers import Conv2D, MaxPooling2D, Flatten, Dense, Dropout, BatchNormalization, GlobalAveragePooling2D\n",
    "from tensorflow.keras.optimizers import Adam\n",
    "\n",
    "# Creating the model\n",
    "model = Sequential()\n",
    "\n",
    "# First convolutional layer, batch normalization, and pooling layer\n",
    "model.add(Conv2D(32, (3, 3), activation='relu', input_shape=(224, 224, 3)))\n",
    "model.add(BatchNormalization())  # Adding batch normalization\n",
    "model.add(MaxPooling2D(pool_size=(2, 2)))\n",
    "\n",
    "# Second convolutional layer, batch normalization, and pooling layer\n",
    "model.add(Conv2D(64, (3, 3), activation='relu'))\n",
    "model.add(BatchNormalization())\n",
    "model.add(MaxPooling2D(pool_size=(2, 2)))\n",
    "\n",
    "# Third convolutional layer, batch normalization, and pooling layer\n",
    "model.add(Conv2D(128, (3, 3), activation='relu'))\n",
    "model.add(BatchNormalization())\n",
    "model.add(MaxPooling2D(pool_size=(2, 2)))\n",
    "\n",
    "# Fourth convolutional layer, batch normalization, and pooling layer\n",
    "model.add(Conv2D(256, (3, 3), activation='relu'))\n",
    "model.add(BatchNormalization())\n",
    "model.add(MaxPooling2D(pool_size=(2, 2)))\n",
    "\n",
    "# Fifth convolutional layer, batch normalization, and pooling layer\n",
    "model.add(Conv2D(512, (3, 3), activation='relu'))\n",
    "model.add(BatchNormalization())\n",
    "model.add(MaxPooling2D(pool_size=(2, 2)))\n",
    "\n",
    "# Global Average Pooling layer\n",
    "model.add(GlobalAveragePooling2D())\n",
    "\n",
    "# Fully connected layers with a large number of neurons\n",
    "model.add(Dense(2048, activation='relu'))  # Fully connected layer with more neurons\n",
    "model.add(Dropout(0.4))  # Dropout rate set to 0.4 to prevent overfitting\n",
    "model.add(Dense(1024, activation='relu'))\n",
    "model.add(Dropout(0.4))  # Dropout rate set to 0.4\n",
    "\n",
    "# Output layer with 10 units (for 10 classes)\n",
    "model.add(Dense(10, activation='softmax'))\n",
    "\n",
    "# Compiling the model with Adam optimizer and a lower learning rate\n",
    "optimizer = Adam(learning_rate=0.0005)  # Lower learning rate to improve training stability\n",
    "model.compile(optimizer=optimizer, \n",
    "              loss='categorical_crossentropy', \n",
    "              metrics=['accuracy'])\n",
    "\n",
    "# Model summary to display the model architecture\n",
    "model.summary()\n"
   ]
  },
  {
   "cell_type": "markdown",
   "id": "8696b876",
   "metadata": {
    "papermill": {
     "duration": 0.00624,
     "end_time": "2024-12-21T14:31:01.461237",
     "exception": false,
     "start_time": "2024-12-21T14:31:01.454997",
     "status": "completed"
    },
    "tags": []
   },
   "source": [
    "## 3.1 One-Hot Encoding of y_test Labels 🔠\n",
    "\n",
    "This code converts the `y_test` labels into a one-hot encoded format for multi-class classification tasks. One-hot encoding is a common technique used for converting categorical labels into a binary matrix, which is necessary for classification models.\n",
    "\n",
    "### Code Explanation:\n",
    "\n",
    "- **to_categorical(y_test, num_classes=10)**:\n",
    "    - The `to_categorical` function is imported from the `tensorflow.keras.utils` module and is used to convert the `y_test` labels into a one-hot encoded matrix.\n",
    "    - `y_test`: The true labels for the test set.\n",
    "    - `num_classes=10`: Specifies the number of classes in the dataset (in this case, 10 classes).\n",
    "  \n",
    "Each label in `y_test` is transformed into a binary vector, where the index corresponding to the label is set to 1, and all other indices are set to 0.\n",
    "\n",
    "### Result:\n",
    "- After applying the `to_categorical` function, `y_test_one_hot` will contain a matrix where each row represents a sample from `y_test`, with a `1` at the index of the correct class and `0` elsewhere.\n",
    "  \n",
    "This transformation allows the model to properly compare predictions with the true class labels during training and evaluation. ✅\n"
   ]
  },
  {
   "cell_type": "code",
   "execution_count": 8,
   "id": "8c9e2676",
   "metadata": {
    "execution": {
     "iopub.execute_input": "2024-12-21T14:31:01.474982Z",
     "iopub.status.busy": "2024-12-21T14:31:01.474729Z",
     "iopub.status.idle": "2024-12-21T14:31:01.480817Z",
     "shell.execute_reply": "2024-12-21T14:31:01.480242Z"
    },
    "papermill": {
     "duration": 0.014708,
     "end_time": "2024-12-21T14:31:01.482356",
     "exception": false,
     "start_time": "2024-12-21T14:31:01.467648",
     "status": "completed"
    },
    "tags": []
   },
   "outputs": [],
   "source": [
    "from tensorflow.keras.utils import to_categorical\n",
    "\n",
    "# Converting y_test labels to one-hot encoding format\n",
    "y_test_one_hot = to_categorical(y_test, num_classes=10)"
   ]
  },
  {
   "cell_type": "markdown",
   "id": "2877bed3",
   "metadata": {
    "papermill": {
     "duration": 0.006334,
     "end_time": "2024-12-21T14:31:01.495062",
     "exception": false,
     "start_time": "2024-12-21T14:31:01.488728",
     "status": "completed"
    },
    "tags": []
   },
   "source": [
    "## 3.2 One-Hot Encoding for y_train Labels 🔠\n",
    "\n",
    "This code converts the `y_train` labels into a one-hot encoded format for multi-class classification tasks. One-hot encoding is crucial for training classification models, as it transforms categorical labels into a binary matrix that can be processed by the model.\n",
    "\n",
    "### Code Explanation:\n",
    "\n",
    "- **to_categorical(y_train, num_classes=10)**:\n",
    "    - The `to_categorical` function from the `tensorflow.keras.utils` module is used to convert the `y_train` labels into a one-hot encoded matrix.\n",
    "    - `y_train`: The true labels for the training set.\n",
    "    - `num_classes=10`: Specifies that the dataset contains 10 possible classes (e.g., for a classification problem with 10 different categories).\n",
    "  \n",
    "Each label in the `y_train` array is converted into a binary vector of length `num_classes`, where the position corresponding to the label's class is set to `1`, and all other positions are set to `0`. This enables the model to understand that each label corresponds to a specific class.\n",
    "\n",
    "### Result:\n",
    "- After applying the `to_categorical` function, the `y_train_one_hot` variable will contain a matrix where each row represents a sample from `y_train`, with a `1` at the index of the correct class and `0` at all other positions. ✅\n"
   ]
  },
  {
   "cell_type": "code",
   "execution_count": 9,
   "id": "c471bb64",
   "metadata": {
    "execution": {
     "iopub.execute_input": "2024-12-21T14:31:01.508427Z",
     "iopub.status.busy": "2024-12-21T14:31:01.508174Z",
     "iopub.status.idle": "2024-12-21T14:31:01.512086Z",
     "shell.execute_reply": "2024-12-21T14:31:01.511290Z"
    },
    "papermill": {
     "duration": 0.012445,
     "end_time": "2024-12-21T14:31:01.513705",
     "exception": false,
     "start_time": "2024-12-21T14:31:01.501260",
     "status": "completed"
    },
    "tags": []
   },
   "outputs": [],
   "source": [
    "# Converting y_train labels to one-hot encoding format\n",
    "y_train_one_hot = to_categorical(y_train, num_classes=10)"
   ]
  },
  {
   "cell_type": "markdown",
   "id": "99e07308",
   "metadata": {
    "papermill": {
     "duration": 0.006148,
     "end_time": "2024-12-21T14:31:01.526328",
     "exception": false,
     "start_time": "2024-12-21T14:31:01.520180",
     "status": "completed"
    },
    "tags": []
   },
   "source": [
    "# 4. Training the Model 🏋️‍♂️\n",
    "\n",
    "In this section, we train the model using the `fit()` method and apply real-time data augmentation with `ImageDataGenerator`. We also use the `EarlyStopping` callback to stop training early if the model's performance on the validation set does not improve over a set number of epochs, preventing overfitting and optimizing training efficiency. ⏱️\n",
    "\n",
    "### Key Elements of the Code:\n",
    "\n",
    "1. **EarlyStopping Callback ⏸️:**\n",
    "   - The `EarlyStopping` callback is used to monitor the model’s validation loss (`val_loss`) during training.\n",
    "   - `monitor='val_loss'`: The validation loss is tracked to detect when the model stops improving.\n",
    "   - `patience=5`: The training will stop after 5 epochs without improvement in the validation loss.\n",
    "   - `restore_best_weights=True`: Ensures that the model’s weights are restored to the best state when the validation loss was the lowest.\n",
    "\n",
    "2. **Data Augmentation 🔄:**\n",
    "   - The `datagen.flow()` function generates batches of image data with augmentation applied, improving the model’s ability to generalize by introducing variations in the training images.\n",
    "   - Batch size is set to 32, meaning the model will update its weights after processing 32 images at a time.\n",
    "\n",
    "3. **Model Training 🧑‍💻:**\n",
    "   - The model is trained for up to 30 epochs, but due to early stopping, it may stop earlier if no improvement is seen.\n",
    "   - The training process is monitored with `verbose=2` to display progress after every epoch.\n",
    "   - The validation data (`X_test`, `y_test_one_hot`) is used to evaluate the model after each epoch.\n",
    "\n",
    "This setup ensures that the model is trained efficiently with the possibility of early termination if no further improvement is observed, thus optimizing the time spent on training while also avoiding overfitting. ⚡\n"
   ]
  },
  {
   "cell_type": "code",
   "execution_count": 10,
   "id": "bfc715c3",
   "metadata": {
    "execution": {
     "iopub.execute_input": "2024-12-21T14:31:01.540368Z",
     "iopub.status.busy": "2024-12-21T14:31:01.540080Z",
     "iopub.status.idle": "2024-12-21T14:44:45.169786Z",
     "shell.execute_reply": "2024-12-21T14:44:45.169034Z"
    },
    "papermill": {
     "duration": 823.639184,
     "end_time": "2024-12-21T14:44:45.171827",
     "exception": false,
     "start_time": "2024-12-21T14:31:01.532643",
     "status": "completed"
    },
    "tags": []
   },
   "outputs": [
    {
     "name": "stdout",
     "output_type": "stream",
     "text": [
      "Epoch 1/30\n"
     ]
    },
    {
     "name": "stderr",
     "output_type": "stream",
     "text": [
      "/opt/conda/lib/python3.10/site-packages/keras/src/trainers/data_adapters/py_dataset_adapter.py:121: UserWarning: Your `PyDataset` class should call `super().__init__(**kwargs)` in its constructor. `**kwargs` can include `workers`, `use_multiprocessing`, `max_queue_size`. Do not pass these arguments to `fit()`, as they will be ignored.\n",
      "  self._warn_if_super_not_called()\n",
      "WARNING: All log messages before absl::InitializeLog() is called are written to STDERR\n",
      "I0000 00:00:1734791469.620534      66 service.cc:145] XLA service 0x79b820008bd0 initialized for platform CUDA (this does not guarantee that XLA will be used). Devices:\n",
      "I0000 00:00:1734791469.620599      66 service.cc:153]   StreamExecutor device (0): Tesla T4, Compute Capability 7.5\n",
      "I0000 00:00:1734791469.620604      66 service.cc:153]   StreamExecutor device (1): Tesla T4, Compute Capability 7.5\n",
      "I0000 00:00:1734791480.862562      66 device_compiler.h:188] Compiled cluster using XLA!  This line is logged at most once for the lifetime of the process.\n"
     ]
    },
    {
     "name": "stdout",
     "output_type": "stream",
     "text": [
      "143/143 - 71s - 494ms/step - accuracy: 0.3387 - loss: 1.9354 - val_accuracy: 0.1015 - val_loss: 3.9666\n",
      "Epoch 2/30\n",
      "143/143 - 44s - 308ms/step - accuracy: 0.4563 - loss: 1.5780 - val_accuracy: 0.2323 - val_loss: 2.5813\n",
      "Epoch 3/30\n",
      "143/143 - 44s - 307ms/step - accuracy: 0.5092 - loss: 1.3912 - val_accuracy: 0.2810 - val_loss: 2.2636\n",
      "Epoch 4/30\n",
      "143/143 - 44s - 311ms/step - accuracy: 0.5657 - loss: 1.2594 - val_accuracy: 0.3856 - val_loss: 1.8462\n",
      "Epoch 5/30\n",
      "143/143 - 44s - 309ms/step - accuracy: 0.6081 - loss: 1.1484 - val_accuracy: 0.4056 - val_loss: 1.7870\n",
      "Epoch 6/30\n",
      "143/143 - 44s - 309ms/step - accuracy: 0.6200 - loss: 1.0883 - val_accuracy: 0.5144 - val_loss: 1.4272\n",
      "Epoch 7/30\n",
      "143/143 - 44s - 310ms/step - accuracy: 0.6470 - loss: 1.0242 - val_accuracy: 0.6097 - val_loss: 1.1788\n",
      "Epoch 8/30\n",
      "143/143 - 44s - 306ms/step - accuracy: 0.6644 - loss: 0.9745 - val_accuracy: 0.6605 - val_loss: 1.0268\n",
      "Epoch 9/30\n",
      "143/143 - 44s - 308ms/step - accuracy: 0.6989 - loss: 0.8967 - val_accuracy: 0.6708 - val_loss: 0.9552\n",
      "Epoch 10/30\n",
      "143/143 - 45s - 313ms/step - accuracy: 0.7097 - loss: 0.8507 - val_accuracy: 0.7056 - val_loss: 0.8486\n",
      "Epoch 11/30\n",
      "143/143 - 45s - 312ms/step - accuracy: 0.7301 - loss: 0.7868 - val_accuracy: 0.6262 - val_loss: 1.0903\n",
      "Epoch 12/30\n",
      "143/143 - 45s - 313ms/step - accuracy: 0.7442 - loss: 0.7680 - val_accuracy: 0.6395 - val_loss: 1.0447\n",
      "Epoch 13/30\n",
      "143/143 - 44s - 309ms/step - accuracy: 0.7618 - loss: 0.7113 - val_accuracy: 0.7082 - val_loss: 0.8373\n",
      "Epoch 14/30\n",
      "143/143 - 44s - 309ms/step - accuracy: 0.7686 - loss: 0.6797 - val_accuracy: 0.7154 - val_loss: 0.8621\n",
      "Epoch 15/30\n",
      "143/143 - 44s - 307ms/step - accuracy: 0.7914 - loss: 0.6344 - val_accuracy: 0.6390 - val_loss: 1.1233\n",
      "Epoch 16/30\n",
      "143/143 - 44s - 308ms/step - accuracy: 0.7791 - loss: 0.6534 - val_accuracy: 0.5826 - val_loss: 1.6464\n",
      "Epoch 17/30\n",
      "143/143 - 44s - 305ms/step - accuracy: 0.8101 - loss: 0.5733 - val_accuracy: 0.6077 - val_loss: 1.2216\n",
      "Epoch 18/30\n",
      "143/143 - 44s - 306ms/step - accuracy: 0.8240 - loss: 0.5284 - val_accuracy: 0.6282 - val_loss: 1.3415\n"
     ]
    }
   ],
   "source": [
    "from tensorflow.keras.callbacks import EarlyStopping\n",
    "\n",
    "# EarlyStopping callback to stop training if the validation loss doesn't improve\n",
    "early_stopping = EarlyStopping(monitor='val_loss', \n",
    "                               patience=5,  # Stop after 5 epochs with no improvement\n",
    "                               restore_best_weights=True)\n",
    "\n",
    "# Training the model with data augmentation\n",
    "history = model.fit(\n",
    "    datagen.flow(X_train, y_train_one_hot, batch_size=32),  # Use data augmentation with batch size of 32\n",
    "    validation_data=(X_test, y_test_one_hot),  # Validation data with one-hot encoded labels\n",
    "    epochs=30,  # Train for 30 epochs\n",
    "    verbose=2,  # Show training progress\n",
    "    callbacks=[early_stopping]  # Use early stopping to prevent overfitting\n",
    ")\n"
   ]
  },
  {
   "cell_type": "code",
   "execution_count": 11,
   "id": "899f63f0",
   "metadata": {
    "execution": {
     "iopub.execute_input": "2024-12-21T14:44:45.190467Z",
     "iopub.status.busy": "2024-12-21T14:44:45.190156Z",
     "iopub.status.idle": "2024-12-21T14:44:45.843357Z",
     "shell.execute_reply": "2024-12-21T14:44:45.842472Z"
    },
    "papermill": {
     "duration": 0.664813,
     "end_time": "2024-12-21T14:44:45.845523",
     "exception": false,
     "start_time": "2024-12-21T14:44:45.180710",
     "status": "completed"
    },
    "tags": []
   },
   "outputs": [
    {
     "data": {
      "image/png": "[encoded data removed]",
      "text/plain": [
       "<Figure size 1200x600 with 2 Axes>"
      ]
     },
     "metadata": {},
     "output_type": "display_data"
    }
   ],
   "source": [
    "import matplotlib.pyplot as plt\n",
    "\n",
    "# Eğitim ve doğrulama kaybını çizme\n",
    "plt.figure(figsize=(12, 6))\n",
    "plt.subplot(1, 2, 1)  # 1 satır, 2 sütun, 1. grafik\n",
    "plt.plot(history.history['loss'], label='Eğitim Kaybı')\n",
    "plt.plot(history.history['val_loss'], label='Doğrulama Kaybı')\n",
    "plt.title('Eğitim ve Doğrulama Kaybı')\n",
    "plt.xlabel('Epoch')\n",
    "plt.ylabel('Loss')\n",
    "plt.legend()\n",
    "\n",
    "# Eğitim ve doğrulama doğruluğunu çizme\n",
    "plt.subplot(1, 2, 2)  # 1 satır, 2 sütun, 2. grafik\n",
    "plt.plot(history.history['accuracy'], label='Eğitim Doğruluğu')\n",
    "plt.plot(history.history['val_accuracy'], label='Doğrulama Doğruluğu')\n",
    "plt.title('Eğitim ve Doğrulama Doğruluğu')\n",
    "plt.xlabel('Epoch')\n",
    "plt.ylabel('Accuracy')\n",
    "plt.legend()\n",
    "\n",
    "plt.tight_layout()  # Grafikler arasındaki boşlukları düzenler\n",
    "plt.show()\n"
   ]
  },
  {
   "cell_type": "markdown",
   "id": "e5d6a28b",
   "metadata": {
    "papermill": {
     "duration": 0.00915,
     "end_time": "2024-12-21T14:44:45.864597",
     "exception": false,
     "start_time": "2024-12-21T14:44:45.855447",
     "status": "completed"
    },
    "tags": []
   },
   "source": [
    "# 5. Image Manipulation: Adjusting Brightness and Contrast 🎨\n",
    "\n",
    "This section of the code demonstrates how to manipulate the images by adjusting their brightness and contrast using OpenCV's `convertScaleAbs` function. 🖼️\n",
    "\n",
    "### Code Explanation:\n",
    "\n",
    "- **`cv2.convertScaleAbs(img, alpha=alpha, beta=beta)`**:\n",
    "  - This function is used to adjust the brightness and contrast of the input image (`img`).\n",
    "  - **`alpha`**: Controls the contrast of the image. A value greater than 1.0 increases the contrast, while a value less than 1.0 reduces it.\n",
    "  - **`beta`**: Controls the brightness of the image. A positive value increases the brightness, and a negative value decreases it.\n",
    "  \n",
    "  The function scales the pixel values of the image by the `alpha` factor (contrast adjustment) and adds a constant value `beta` (brightness adjustment). 🌟\n",
    "\n",
    "- **Loop 🔁**:\n",
    "  - The code iterates over all the images in the input `images` list (which contains the test set images in this case).\n",
    "  - For each image, it applies the contrast and brightness adjustments and stores the manipulated image in the `manipulated_images` list.\n",
    "\n",
    "- **`manipulated_images`**:\n",
    "  - After applying the transformations, the list `manipulated_images` contains all the modified images, which are returned as a NumPy array. 📸\n",
    "\n",
    "- **Saving Manipulated Images 💾**:\n",
    "  - The manipulated images are saved as `.png` files with filenames like `manipulated_image_{idx}.png`, where `{idx}` is the index of the image in the manipulated list.\n",
    "  - This step is optional and can be omitted if saving the images is not necessary.\n",
    "\n",
    "### Result:\n",
    "- The resulting images will have adjusted brightness and contrast, which can be useful for augmenting the dataset or testing the model under different image conditions. 🌈\n"
   ]
  },
  {
   "cell_type": "code",
   "execution_count": 12,
   "id": "1a5c730c",
   "metadata": {
    "execution": {
     "iopub.execute_input": "2024-12-21T14:44:45.884342Z",
     "iopub.status.busy": "2024-12-21T14:44:45.884064Z",
     "iopub.status.idle": "2024-12-21T14:44:48.333941Z",
     "shell.execute_reply": "2024-12-21T14:44:48.333227Z"
    },
    "papermill": {
     "duration": 2.461943,
     "end_time": "2024-12-21T14:44:48.335937",
     "exception": false,
     "start_time": "2024-12-21T14:44:45.873994",
     "status": "completed"
    },
    "tags": []
   },
   "outputs": [],
   "source": [
    "import cv2\n",
    "import numpy as np\n",
    "\n",
    "def get_manipulated_images(images, alpha=1.5, beta=30):\n",
    "    manipulated_images = []\n",
    "    for img in images:\n",
    "        # Adjusting the brightness and contrast of the image\n",
    "        manipulated = cv2.convertScaleAbs(img, alpha=1.2, beta=10)\n",
    "        manipulated_images.append(manipulated)\n",
    "    return np.array(manipulated_images)\n",
    "\n",
    "# Manipulating the images in the test set\n",
    "manipulated_test_images = get_manipulated_images(X_test)\n",
    "\n",
    "# Saving the manipulated images to files (optional)\n",
    "for idx, img in enumerate(manipulated_test_images):\n",
    "    cv2.imwrite(f\"manipulated_image_{idx}.png\", img)\n"
   ]
  },
  {
   "cell_type": "markdown",
   "id": "46a202f2",
   "metadata": {
    "papermill": {
     "duration": 0.009022,
     "end_time": "2024-12-21T14:44:48.354826",
     "exception": false,
     "start_time": "2024-12-21T14:44:48.345804",
     "status": "completed"
    },
    "tags": []
   },
   "source": [
    "# 6. Evaluating the Model on Manipulated Test Set 🔍\n",
    "\n",
    "In this section, we evaluate the model's performance on the manipulated test images to observe how the model performs when presented with images that have adjusted brightness and contrast. 💡\n",
    "\n",
    "### Code Explanation:\n",
    "\n",
    "- **`model.evaluate(manipulated_test_images, y_test_one_hot, verbose=2)`**:\n",
    "  - This function evaluates the trained model on the manipulated test set (`manipulated_test_images`).\n",
    "  - **`manipulated_test_images`**: The manipulated images (those with adjusted brightness and contrast) that were passed through the `get_manipulated_images` function earlier.\n",
    "  - **`y_test_one_hot`**: The one-hot encoded true labels for the test set. These are used to calculate the loss and accuracy during evaluation.\n",
    "  - **`verbose=2`**: This argument controls the verbosity of the output. A value of 2 will display a progress bar and additional details during evaluation. 📊\n",
    "  \n",
    "  The `evaluate` function returns the model's loss and accuracy on the manipulated test images. The loss is the value of the loss function, and the accuracy is the percentage of correct predictions. 🎯\n",
    "\n",
    "- **`manipulated_test_results[1]`**:\n",
    "  - After the evaluation, `manipulated_test_results` stores a list where the first element is the loss value, and the second element is the accuracy value.\n",
    "  - `manipulated_test_results[1]` refers to the accuracy value of the model on the manipulated test set. 📈\n",
    "\n",
    "- **`print(f\"Manipüle Edilmiş Test Seti Başarı Oranı: {manipulated_test_results[1]*100:.2f}%\")`**:\n",
    "  - This line prints the accuracy of the model on the manipulated test set in percentage format. 📑\n",
    "  - The accuracy is multiplied by 100 to convert it into a percentage, and the result is formatted to two decimal places using `:.2f`. 🔢\n",
    "\n",
    "### Result:\n",
    "- After running this code, the model's accuracy on the manipulated test set will be displayed as a percentage. This allows us to see how well the model handles images with altered brightness and contrast. 🌈\n"
   ]
  },
  {
   "cell_type": "code",
   "execution_count": 13,
   "id": "a8cfcddf",
   "metadata": {
    "execution": {
     "iopub.execute_input": "2024-12-21T14:44:48.374864Z",
     "iopub.status.busy": "2024-12-21T14:44:48.374579Z",
     "iopub.status.idle": "2024-12-21T14:44:50.685669Z",
     "shell.execute_reply": "2024-12-21T14:44:50.684582Z"
    },
    "papermill": {
     "duration": 2.323148,
     "end_time": "2024-12-21T14:44:50.687352",
     "exception": false,
     "start_time": "2024-12-21T14:44:48.364204",
     "status": "completed"
    },
    "tags": []
   },
   "outputs": [
    {
     "name": "stdout",
     "output_type": "stream",
     "text": [
      "61/61 - 2s - 34ms/step - accuracy: 0.0913 - loss: 17.3697\n",
      "Accuracy on Manipulated Test Set: 9.13%\n"
     ]
    }
   ],
   "source": [
    "# Testing the model with the manipulated test set\n",
    "manipulated_test_results = model.evaluate(manipulated_test_images, y_test_one_hot, verbose=2)\n",
    "\n",
    "print(f\"Accuracy on Manipulated Test Set: {manipulated_test_results[1]*100:.2f}%\")\n"
   ]
  },
  {
   "cell_type": "markdown",
   "id": "cab9cc6e",
   "metadata": {
    "papermill": {
     "duration": 0.010988,
     "end_time": "2024-12-21T14:44:50.708287",
     "exception": false,
     "start_time": "2024-12-21T14:44:50.697299",
     "status": "completed"
    },
    "tags": []
   },
   "source": [
    "# 7. Applying White Balance with the Gray World Algorithm ⚖️\n",
    "\n",
    "The following code implements the **Gray World** algorithm, which is commonly used for white balance adjustment in images. The Gray World algorithm assumes that the average color of a scene is neutral (gray), and adjusts the image so that the average color values across the red, green, and blue channels are balanced. 🎨\n",
    "\n",
    "### Code Explanation:\n",
    "\n",
    "#### `gray_world(image)` function:\n",
    "\n",
    "- **Input**: \n",
    "    - The function takes an image in the form of a NumPy array where the three channels (Red, Green, and Blue) are stored in the last dimension. 📸\n",
    "\n",
    "- **Process**: \n",
    "    - The function first calculates the average values of the **Blue**, **Green**, and **Red** channels (`avg_b`, `avg_g`, and `avg_r` respectively).\n",
    "    - It then computes the overall average color value (`avg_gray`), which is the mean of the three channel averages.\n",
    "    - Each channel is then scaled by the ratio of the overall average color value to its corresponding average channel value. This process adjusts the color balance. 🔄\n",
    "\n",
    "- **Output**: \n",
    "    - The adjusted image is clipped to ensure that pixel values remain within the valid range [0, 255], and the result is converted back to the uint8 format for proper display. 🎥\n",
    "\n",
    "#### `get_wb_images(images)` function:\n",
    "\n",
    "- **Input**: \n",
    "    - A list of images (`images`) that needs to be processed with the Gray World algorithm. 🖼️\n",
    "\n",
    "- **Process**: \n",
    "    - This function iterates over all images in the input list, applying the `gray_world()` function to each image. 🔄\n",
    "\n",
    "- **Output**: \n",
    "    - The function returns an array of white-balanced images. 📤\n",
    "\n",
    "### Applying White Balance to the Manipulated Test Images:\n",
    "\n",
    "- **`wb_test_images = get_wb_images(manipulated_test_images)`**:\n",
    "    - This line applies the **Gray World** algorithm to the `manipulated_test_images`. The function `get_wb_images()` is called, which processes the manipulated images and adjusts their color balance using the Gray World algorithm. 🎨\n",
    "    - The result is stored in the `wb_test_images` variable, which can be used for further analysis or model evaluation. 📊\n",
    "\n",
    "This technique helps to remove unwanted color casts and improves the overall appearance of images, especially in cases where the lighting conditions are not ideal. 🌅\n"
   ]
  },
  {
   "cell_type": "code",
   "execution_count": 14,
   "id": "f433df5f",
   "metadata": {
    "execution": {
     "iopub.execute_input": "2024-12-21T14:44:50.728191Z",
     "iopub.status.busy": "2024-12-21T14:44:50.727876Z",
     "iopub.status.idle": "2024-12-21T14:44:52.185811Z",
     "shell.execute_reply": "2024-12-21T14:44:52.184555Z"
    },
    "papermill": {
     "duration": 1.470288,
     "end_time": "2024-12-21T14:44:52.187779",
     "exception": false,
     "start_time": "2024-12-21T14:44:50.717491",
     "status": "completed"
    },
    "tags": []
   },
   "outputs": [],
   "source": [
    "def gray_world(image):\n",
    "    \"\"\"\n",
    "    Function that applies white balance using the Gray World algorithm.\n",
    "    \"\"\"\n",
    "    result = np.zeros_like(image, dtype=np.float32)\n",
    "    avg_b = np.mean(image[:, :, 0])  # Average of the Blue channel\n",
    "    avg_g = np.mean(image[:, :, 1])  # Average of the Green channel\n",
    "    avg_r = np.mean(image[:, :, 2])  # Average of the Red channel\n",
    "    \n",
    "    # Normalizing the average values\n",
    "    avg_gray = (avg_b + avg_g + avg_r) / 3\n",
    "    \n",
    "    result[:, :, 0] = (image[:, :, 0] * (avg_gray / avg_b))  # Blue channel correction\n",
    "    result[:, :, 1] = (image[:, :, 1] * (avg_gray / avg_g))  # Green channel correction\n",
    "    result[:, :, 2] = (image[:, :, 2] * (avg_gray / avg_r))  # Red channel correction\n",
    "    \n",
    "    return np.clip(result, 0, 255).astype(np.uint8)  # Convert the image back to uint8 format\n",
    "\n",
    "def get_wb_images(images):\n",
    "    wb_images = []\n",
    "    for img in images:\n",
    "        result = gray_world(img)  # Apply the Gray World algorithm\n",
    "        wb_images.append(result)\n",
    "    return np.array(wb_images)\n",
    "\n",
    "# Applying color constancy to the manipulated test set\n",
    "wb_test_images = get_wb_images(manipulated_test_images)  # Apply white balance on manipulated test images\n"
   ]
  },
  {
   "cell_type": "markdown",
   "id": "6f3beeb5",
   "metadata": {
    "papermill": {
     "duration": 0.009044,
     "end_time": "2024-12-21T14:44:52.206442",
     "exception": false,
     "start_time": "2024-12-21T14:44:52.197398",
     "status": "completed"
    },
    "tags": []
   },
   "source": [
    "# 8. Testing the Model with the White-Balanced Test Set  🔍\n",
    "\n",
    "\n",
    "This section evaluates the performance of the trained model using the test set that has undergone white balance correction using the Gray World algorithm.\n"
   ]
  },
  {
   "cell_type": "code",
   "execution_count": 15,
   "id": "e421bdc3",
   "metadata": {
    "execution": {
     "iopub.execute_input": "2024-12-21T14:44:52.225541Z",
     "iopub.status.busy": "2024-12-21T14:44:52.225280Z",
     "iopub.status.idle": "2024-12-21T14:44:53.398054Z",
     "shell.execute_reply": "2024-12-21T14:44:53.397037Z"
    },
    "papermill": {
     "duration": 1.184427,
     "end_time": "2024-12-21T14:44:53.399889",
     "exception": false,
     "start_time": "2024-12-21T14:44:52.215462",
     "status": "completed"
    },
    "tags": []
   },
   "outputs": [
    {
     "name": "stdout",
     "output_type": "stream",
     "text": [
      "61/61 - 1s - 15ms/step - accuracy: 0.0872 - loss: 16.7356\n",
      "Accuracy on White-Balanced Test Set: 8.72%\n"
     ]
    }
   ],
   "source": [
    "# Testing the model with the white balance applied test set\n",
    "wb_test_results = model.evaluate(wb_test_images, y_test_one_hot, verbose=2)\n",
    "\n",
    "print(f\"Accuracy on White-Balanced Test Set: {wb_test_results[1]*100:.2f}%\")\n"
   ]
  },
  {
   "cell_type": "markdown",
   "id": "4bee881b",
   "metadata": {
    "papermill": {
     "duration": 0.009536,
     "end_time": "2024-12-21T14:44:53.419701",
     "exception": false,
     "start_time": "2024-12-21T14:44:53.410165",
     "status": "completed"
    },
    "tags": []
   },
   "source": [
    "# 9. Model Evaluation and Comparison on Different Test Sets 📊\n",
    "\n",
    "This section explains how the model is evaluated on three different test sets: the original test set, the manipulated test set, and the white-balanced test set. After evaluating the model on these datasets, the results are printed and compared to assess the model's performance across different image preprocessing techniques."
   ]
  },
  {
   "cell_type": "code",
   "execution_count": 16,
   "id": "eb0d488c",
   "metadata": {
    "execution": {
     "iopub.execute_input": "2024-12-21T14:44:53.440774Z",
     "iopub.status.busy": "2024-12-21T14:44:53.440468Z",
     "iopub.status.idle": "2024-12-21T14:44:59.931753Z",
     "shell.execute_reply": "2024-12-21T14:44:59.930564Z"
    },
    "papermill": {
     "duration": 6.503778,
     "end_time": "2024-12-21T14:44:59.933668",
     "exception": false,
     "start_time": "2024-12-21T14:44:53.429890",
     "status": "completed"
    },
    "tags": []
   },
   "outputs": [
    {
     "name": "stdout",
     "output_type": "stream",
     "text": [
      "61/61 - 1s - 19ms/step - accuracy: 0.7082 - loss: 0.8373\n",
      "61/61 - 1s - 13ms/step - accuracy: 0.0913 - loss: 17.3697\n",
      "61/61 - 1s - 13ms/step - accuracy: 0.0872 - loss: 16.7356\n",
      "Accuracy on Normal Test Set: 70.82%\n",
      "Accuracy on Manipulated Test Set: 9.13%\n",
      "Accuracy on White-Balanced Test Set: 8.72%\n",
      "Normal Test Set: 70.82%\n",
      "Manipulated Test Set: 9.13%\n",
      "White-Balanced Test Set: 8.72%\n"
     ]
    }
   ],
   "source": [
    "# Testing the model with the original test set\n",
    "original_test_results = model.evaluate(X_test, y_test_one_hot, verbose=2)\n",
    "manipulated_test_results = model.evaluate(manipulated_test_images, y_test_one_hot, verbose=2)\n",
    "wb_test_results = model.evaluate(wb_test_images, y_test_one_hot, verbose=2)\n",
    "\n",
    "# Printing the results\n",
    "print(f\"Accuracy on Normal Test Set: {original_test_results[1]*100:.2f}%\")\n",
    "print(f\"Accuracy on Manipulated Test Set: {manipulated_test_results[1]*100:.2f}%\")\n",
    "print(f\"Accuracy on White-Balanced Test Set: {wb_test_results[1]*100:.2f}%\")\n",
    "\n",
    "# Comparing the results\n",
    "results = {\n",
    "    \"Normal Test Set\": original_test_results[1] * 100,\n",
    "    \"Manipulated Test Set\": manipulated_test_results[1] * 100,\n",
    "    \"White-Balanced Test Set\": wb_test_results[1] * 100\n",
    "}\n",
    "\n",
    "# Reporting the results\n",
    "for set_name, accuracy in results.items():\n",
    "    print(f\"{set_name}: {accuracy:.2f}%\")\n",
    "\n",
    "# Comparison of accuracy scores and discussion of potential solutions for low scores if necessary.\n"
   ]
  },
  {
   "cell_type": "markdown",
   "id": "15a9e507",
   "metadata": {
    "papermill": {
     "duration": 0.010416,
     "end_time": "2024-12-21T14:44:59.954789",
     "exception": false,
     "start_time": "2024-12-21T14:44:59.944373",
     "status": "completed"
    },
    "tags": []
   },
   "source": [
    "## 9.1 Analysis and Insights 🔍:\n",
    "\n",
    "Upon analyzing the results, it's evident that there is a significant drop in accuracy when testing on the manipulated and white-balanced test sets compared to the normal test set. Below are some potential reasons for this performance gap and steps that could be taken to improve it.\n",
    "\n",
    "1. **Generalization Issues in the Model 🧠:**\n",
    "   The drastic decrease in performance on the manipulated and white-balanced test sets indicates that the model struggles to generalize well under different lighting and contrast conditions. This suggests that the model may have overfitted to the specific conditions present in the training data and isn't robust to variations.\n",
    "\n",
    "2. **Shift in Data Distribution 📊:**\n",
    "   The manipulated images likely introduced a shift in data distribution that the model wasn't trained on. As a result, the model's ability to recognize patterns in these altered images decreased significantly, showing its sensitivity to changes in the visual properties of the input.\n",
    "\n",
    "#### Potential Solutions 🛠️:\n",
    "\n",
    "1. **Data Augmentation 🌈:**\n",
    "   - To make the model more robust, I could incorporate more aggressive data augmentation techniques during training, including random brightness, contrast adjustments, and even white-balancing operations. This would help the model learn to adapt to various lighting conditions and increase its generalization capability.\n",
    "\n",
    "2. **Fine-Tuning the Model 🔧:**\n",
    "   - Another approach could be to fine-tune the model on a set of manipulated images with different lighting conditions. By retraining or fine-tuning with these variations, the model could better understand the potential changes in image properties.\n",
    "\n",
    "3. **Regularization Techniques 🧘‍♂️:**\n",
    "   - Adding more regularization techniques such as dropout or L2 regularization could help the model avoid overfitting to the specific features of the training data and improve its performance on unseen data, including manipulated test sets.\n",
    "\n",
    "4. **Using Pretrained Models 🤖:**\n",
    "   - Another solution could be to leverage a pretrained model (such as one based on ImageNet) and fine-tune it on my dataset. Pretrained models often have better generalization capabilities due to their exposure to diverse data during initial training.\n",
    "\n",
    "5. **Adjusting the Learning Rate ⚙️:**\n",
    "   - I could experiment with different learning rates or use learning rate schedules to ensure that the model converges better and isn't too sensitive to overfitting.\n",
    "\n",
    "#### Conclusion 📈:\n",
    "\n",
    "The results show that the model performs well on the normal test set, but struggles significantly on manipulated and white-balanced sets. Incorporating more diverse data, applying robust augmentation, and tuning the model further should improve its performance across varying conditions, helping the model become more adaptable to real-world variations.\n"
   ]
  }
 ],
 "metadata": {
  "kaggle": {
   "accelerator": "nvidiaTeslaT4",
   "dataSources": [
    {
     "datasetId": 1408532,
     "sourceId": 2333429,
     "sourceType": "datasetVersion"
    }
   ],
   "dockerImageVersionId": 30804,
   "isGpuEnabled": true,
   "isInternetEnabled": false,
   "language": "python",
   "sourceType": "notebook"
  },
  "kernelspec": {
   "display_name": "Python 3",
   "language": "python",
   "name": "python3"
  },
  "language_info": {
   "codemirror_mode": {
    "name": "ipython",
    "version": 3
   },
   "file_extension": ".py",
   "mimetype": "text/x-python",
   "name": "python",
   "nbconvert_exporter": "python",
   "pygments_lexer": "ipython3",
   "version": "3.10.14"
  },
  "papermill": {
   "default_parameters": {},
   "duration": 990.124795,
   "end_time": "2024-12-21T14:45:04.433545",
   "environment_variables": {},
   "exception": null,
   "input_path": "__notebook__.ipynb",
   "output_path": "__notebook__.ipynb",
   "parameters": {},
   "start_time": "2024-12-21T14:28:34.308750",
   "version": "2.6.0"
  }
 },
 "nbformat": 4,
 "nbformat_minor": 5
}
